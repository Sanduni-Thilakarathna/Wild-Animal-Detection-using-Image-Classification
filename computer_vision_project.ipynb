{
  "cells": [
    {
      "cell_type": "code",
      "execution_count": null,
      "metadata": {
        "id": "Lmdb29mFv9gM"
      },
      "outputs": [],
      "source": [
        "import tensorflow as tf\n",
        "from tensorflow.keras.preprocessing.image import ImageDataGenerator\n",
        "from tensorflow.keras.applications import MobileNetV2\n",
        "from tensorflow.keras.models import Sequential\n",
        "from tensorflow.keras.layers import Dense, Flatten\n",
        "from tensorflow.keras.optimizers import Adam\n",
        "from tensorflow.keras.models import load_model\n",
        "import numpy as np\n",
        "import os\n"
      ]
    },
    {
      "cell_type": "code",
      "execution_count": null,
      "metadata": {
        "id": "76NI9XNBwm6S"
      },
      "outputs": [],
      "source": [
        "dataset_path = '/content/drive/MyDrive/animals'\n"
      ]
    },
    {
      "cell_type": "code",
      "execution_count": null,
      "metadata": {
        "colab": {
          "base_uri": "https://localhost:8080/"
        },
        "id": "W8dsQzTywtrf",
        "outputId": "ca927b11-c5e4-4211-85b0-cb93ea3f2411"
      },
      "outputs": [
        {
          "output_type": "stream",
          "name": "stdout",
          "text": [
            "Collecting split-folders\n",
            "  Downloading split_folders-0.5.1-py3-none-any.whl.metadata (6.2 kB)\n",
            "Downloading split_folders-0.5.1-py3-none-any.whl (8.4 kB)\n",
            "Installing collected packages: split-folders\n",
            "Successfully installed split-folders-0.5.1\n"
          ]
        }
      ],
      "source": [
        "pip install split-folders\n"
      ]
    },
    {
      "cell_type": "code",
      "execution_count": null,
      "metadata": {
        "colab": {
          "base_uri": "https://localhost:8080/"
        },
        "id": "cz4msGsiwylz",
        "outputId": "8628ea9c-6dd5-4dba-c4e5-9d899f72680a"
      },
      "outputs": [
        {
          "output_type": "stream",
          "name": "stderr",
          "text": [
            "Copying files: 3707 files [20:12,  3.06 files/s]\n"
          ]
        }
      ],
      "source": [
        "import splitfolders\n",
        "\n",
        "splitfolders.ratio(dataset_path, output=\"output_folder\", seed=42, ratio=(0.8, 0.2), group_prefix=None)\n"
      ]
    },
    {
      "cell_type": "code",
      "execution_count": null,
      "metadata": {
        "id": "0kBupECFw1YQ"
      },
      "outputs": [],
      "source": [
        "train_dir = '/content/output_folder/train'\n",
        "val_dir = '/content/output_folder/val'\n"
      ]
    },
    {
      "cell_type": "code",
      "execution_count": null,
      "metadata": {
        "colab": {
          "base_uri": "https://localhost:8080/"
        },
        "id": "DFVH3eYnzgBH",
        "outputId": "8036286e-d018-4430-e090-ea55df6b872e"
      },
      "outputs": [
        {
          "output_type": "stream",
          "name": "stdout",
          "text": [
            "Found 2943 images belonging to 92 classes.\n",
            "Found 764 images belonging to 92 classes.\n"
          ]
        }
      ],
      "source": [
        "# Data augmentation for training\n",
        "train_datagen = ImageDataGenerator(\n",
        "    rescale=1.0/255,            # Normalize pixel values between 0 and 1\n",
        "    rotation_range=20,          # Rotate images randomly\n",
        "    width_shift_range=0.2,      # Randomly shift images horizontally\n",
        "    height_shift_range=0.2,     # Randomly shift images vertically\n",
        "    horizontal_flip=True        # Flip images horizontally\n",
        ")\n",
        "\n",
        "# Data preprocessing for validation\n",
        "val_datagen = ImageDataGenerator(rescale=1.0/255)\n",
        "\n",
        "# Generate batches of tensor image data\n",
        "train_generator = train_datagen.flow_from_directory(\n",
        "    train_dir, target_size=(224, 224), batch_size=32, class_mode='categorical'\n",
        ")\n",
        "\n",
        "val_generator = val_datagen.flow_from_directory(\n",
        "    val_dir, target_size=(224, 224), batch_size=32, class_mode='categorical'\n",
        ")\n"
      ]
    },
    {
      "cell_type": "code",
      "execution_count": null,
      "metadata": {
        "colab": {
          "base_uri": "https://localhost:8080/",
          "height": 292
        },
        "id": "1dyU2hoEzpRp",
        "outputId": "e92800a2-4f56-475a-932e-1782d07c3044"
      },
      "outputs": [
        {
          "output_type": "stream",
          "name": "stdout",
          "text": [
            "Downloading data from https://storage.googleapis.com/tensorflow/keras-applications/mobilenet_v2/mobilenet_v2_weights_tf_dim_ordering_tf_kernels_1.0_224_no_top.h5\n",
            "\u001b[1m9406464/9406464\u001b[0m \u001b[32m━━━━━━━━━━━━━━━━━━━━\u001b[0m\u001b[37m\u001b[0m \u001b[1m0s\u001b[0m 0us/step\n"
          ]
        },
        {
          "output_type": "display_data",
          "data": {
            "text/plain": [
              "\u001b[1mModel: \"sequential\"\u001b[0m\n"
            ],
            "text/html": [
              "<pre style=\"white-space:pre;overflow-x:auto;line-height:normal;font-family:Menlo,'DejaVu Sans Mono',consolas,'Courier New',monospace\"><span style=\"font-weight: bold\">Model: \"sequential\"</span>\n",
              "</pre>\n"
            ]
          },
          "metadata": {}
        },
        {
          "output_type": "display_data",
          "data": {
            "text/plain": [
              "┏━━━━━━━━━━━━━━━━━━━━━━━━━━━━━━━━━━━━━━┳━━━━━━━━━━━━━━━━━━━━━━━━━━━━━┳━━━━━━━━━━━━━━━━━┓\n",
              "┃\u001b[1m \u001b[0m\u001b[1mLayer (type)                        \u001b[0m\u001b[1m \u001b[0m┃\u001b[1m \u001b[0m\u001b[1mOutput Shape               \u001b[0m\u001b[1m \u001b[0m┃\u001b[1m \u001b[0m\u001b[1m        Param #\u001b[0m\u001b[1m \u001b[0m┃\n",
              "┡━━━━━━━━━━━━━━━━━━━━━━━━━━━━━━━━━━━━━━╇━━━━━━━━━━━━━━━━━━━━━━━━━━━━━╇━━━━━━━━━━━━━━━━━┩\n",
              "│ mobilenetv2_1.00_224 (\u001b[38;5;33mFunctional\u001b[0m)    │ (\u001b[38;5;45mNone\u001b[0m, \u001b[38;5;34m7\u001b[0m, \u001b[38;5;34m7\u001b[0m, \u001b[38;5;34m1280\u001b[0m)          │       \u001b[38;5;34m2,257,984\u001b[0m │\n",
              "├──────────────────────────────────────┼─────────────────────────────┼─────────────────┤\n",
              "│ flatten (\u001b[38;5;33mFlatten\u001b[0m)                    │ (\u001b[38;5;45mNone\u001b[0m, \u001b[38;5;34m62720\u001b[0m)               │               \u001b[38;5;34m0\u001b[0m │\n",
              "├──────────────────────────────────────┼─────────────────────────────┼─────────────────┤\n",
              "│ dense (\u001b[38;5;33mDense\u001b[0m)                        │ (\u001b[38;5;45mNone\u001b[0m, \u001b[38;5;34m256\u001b[0m)                 │      \u001b[38;5;34m16,056,576\u001b[0m │\n",
              "├──────────────────────────────────────┼─────────────────────────────┼─────────────────┤\n",
              "│ dense_1 (\u001b[38;5;33mDense\u001b[0m)                      │ (\u001b[38;5;45mNone\u001b[0m, \u001b[38;5;34m92\u001b[0m)                  │          \u001b[38;5;34m23,644\u001b[0m │\n",
              "└──────────────────────────────────────┴─────────────────────────────┴─────────────────┘\n"
            ],
            "text/html": [
              "<pre style=\"white-space:pre;overflow-x:auto;line-height:normal;font-family:Menlo,'DejaVu Sans Mono',consolas,'Courier New',monospace\">┏━━━━━━━━━━━━━━━━━━━━━━━━━━━━━━━━━━━━━━┳━━━━━━━━━━━━━━━━━━━━━━━━━━━━━┳━━━━━━━━━━━━━━━━━┓\n",
              "┃<span style=\"font-weight: bold\"> Layer (type)                         </span>┃<span style=\"font-weight: bold\"> Output Shape                </span>┃<span style=\"font-weight: bold\">         Param # </span>┃\n",
              "┡━━━━━━━━━━━━━━━━━━━━━━━━━━━━━━━━━━━━━━╇━━━━━━━━━━━━━━━━━━━━━━━━━━━━━╇━━━━━━━━━━━━━━━━━┩\n",
              "│ mobilenetv2_1.00_224 (<span style=\"color: #0087ff; text-decoration-color: #0087ff\">Functional</span>)    │ (<span style=\"color: #00d7ff; text-decoration-color: #00d7ff\">None</span>, <span style=\"color: #00af00; text-decoration-color: #00af00\">7</span>, <span style=\"color: #00af00; text-decoration-color: #00af00\">7</span>, <span style=\"color: #00af00; text-decoration-color: #00af00\">1280</span>)          │       <span style=\"color: #00af00; text-decoration-color: #00af00\">2,257,984</span> │\n",
              "├──────────────────────────────────────┼─────────────────────────────┼─────────────────┤\n",
              "│ flatten (<span style=\"color: #0087ff; text-decoration-color: #0087ff\">Flatten</span>)                    │ (<span style=\"color: #00d7ff; text-decoration-color: #00d7ff\">None</span>, <span style=\"color: #00af00; text-decoration-color: #00af00\">62720</span>)               │               <span style=\"color: #00af00; text-decoration-color: #00af00\">0</span> │\n",
              "├──────────────────────────────────────┼─────────────────────────────┼─────────────────┤\n",
              "│ dense (<span style=\"color: #0087ff; text-decoration-color: #0087ff\">Dense</span>)                        │ (<span style=\"color: #00d7ff; text-decoration-color: #00d7ff\">None</span>, <span style=\"color: #00af00; text-decoration-color: #00af00\">256</span>)                 │      <span style=\"color: #00af00; text-decoration-color: #00af00\">16,056,576</span> │\n",
              "├──────────────────────────────────────┼─────────────────────────────┼─────────────────┤\n",
              "│ dense_1 (<span style=\"color: #0087ff; text-decoration-color: #0087ff\">Dense</span>)                      │ (<span style=\"color: #00d7ff; text-decoration-color: #00d7ff\">None</span>, <span style=\"color: #00af00; text-decoration-color: #00af00\">92</span>)                  │          <span style=\"color: #00af00; text-decoration-color: #00af00\">23,644</span> │\n",
              "└──────────────────────────────────────┴─────────────────────────────┴─────────────────┘\n",
              "</pre>\n"
            ]
          },
          "metadata": {}
        },
        {
          "output_type": "display_data",
          "data": {
            "text/plain": [
              "\u001b[1m Total params: \u001b[0m\u001b[38;5;34m18,338,204\u001b[0m (69.95 MB)\n"
            ],
            "text/html": [
              "<pre style=\"white-space:pre;overflow-x:auto;line-height:normal;font-family:Menlo,'DejaVu Sans Mono',consolas,'Courier New',monospace\"><span style=\"font-weight: bold\"> Total params: </span><span style=\"color: #00af00; text-decoration-color: #00af00\">18,338,204</span> (69.95 MB)\n",
              "</pre>\n"
            ]
          },
          "metadata": {}
        },
        {
          "output_type": "display_data",
          "data": {
            "text/plain": [
              "\u001b[1m Trainable params: \u001b[0m\u001b[38;5;34m16,080,220\u001b[0m (61.34 MB)\n"
            ],
            "text/html": [
              "<pre style=\"white-space:pre;overflow-x:auto;line-height:normal;font-family:Menlo,'DejaVu Sans Mono',consolas,'Courier New',monospace\"><span style=\"font-weight: bold\"> Trainable params: </span><span style=\"color: #00af00; text-decoration-color: #00af00\">16,080,220</span> (61.34 MB)\n",
              "</pre>\n"
            ]
          },
          "metadata": {}
        },
        {
          "output_type": "display_data",
          "data": {
            "text/plain": [
              "\u001b[1m Non-trainable params: \u001b[0m\u001b[38;5;34m2,257,984\u001b[0m (8.61 MB)\n"
            ],
            "text/html": [
              "<pre style=\"white-space:pre;overflow-x:auto;line-height:normal;font-family:Menlo,'DejaVu Sans Mono',consolas,'Courier New',monospace\"><span style=\"font-weight: bold\"> Non-trainable params: </span><span style=\"color: #00af00; text-decoration-color: #00af00\">2,257,984</span> (8.61 MB)\n",
              "</pre>\n"
            ]
          },
          "metadata": {}
        }
      ],
      "source": [
        "# Load pre-trained MobileNetV2\n",
        "base_model = MobileNetV2(weights='imagenet', include_top=False, input_shape=(224, 224, 3))\n",
        "\n",
        "base_model.trainable = False\n",
        "\n",
        "model = Sequential([\n",
        "    base_model,\n",
        "    Flatten(),\n",
        "    Dense(256, activation='relu'),\n",
        "    Dense(train_generator.num_classes, activation='softmax')\n",
        "])\n",
        "\n",
        "model.compile(optimizer=Adam(learning_rate=0.001), loss='categorical_crossentropy', metrics=['accuracy'])\n",
        "\n",
        "model.summary()\n"
      ]
    },
    {
      "cell_type": "code",
      "execution_count": null,
      "metadata": {
        "colab": {
          "base_uri": "https://localhost:8080/"
        },
        "id": "5xGLS0Dzzr38",
        "outputId": "26b995b1-3336-4703-d0a2-6609cd0ccf2f"
      },
      "outputs": [
        {
          "output_type": "stream",
          "name": "stdout",
          "text": [
            "Epoch 1/10\n"
          ]
        },
        {
          "output_type": "stream",
          "name": "stderr",
          "text": [
            "/usr/local/lib/python3.10/dist-packages/keras/src/trainers/data_adapters/py_dataset_adapter.py:122: UserWarning: Your `PyDataset` class should call `super().__init__(**kwargs)` in its constructor. `**kwargs` can include `workers`, `use_multiprocessing`, `max_queue_size`. Do not pass these arguments to `fit()`, as they will be ignored.\n",
            "  self._warn_if_super_not_called()\n"
          ]
        },
        {
          "output_type": "stream",
          "name": "stdout",
          "text": [
            "\u001b[1m92/92\u001b[0m \u001b[32m━━━━━━━━━━━━━━━━━━━━\u001b[0m\u001b[37m\u001b[0m \u001b[1m269s\u001b[0m 3s/step - accuracy: 0.1820 - loss: 9.9956 - val_accuracy: 0.6034 - val_loss: 1.7219\n",
            "Epoch 2/10\n",
            "\u001b[1m92/92\u001b[0m \u001b[32m━━━━━━━━━━━━━━━━━━━━\u001b[0m\u001b[37m\u001b[0m \u001b[1m251s\u001b[0m 3s/step - accuracy: 0.6409 - loss: 1.4582 - val_accuracy: 0.7330 - val_loss: 1.2951\n",
            "Epoch 3/10\n",
            "\u001b[1m92/92\u001b[0m \u001b[32m━━━━━━━━━━━━━━━━━━━━\u001b[0m\u001b[37m\u001b[0m \u001b[1m244s\u001b[0m 3s/step - accuracy: 0.7502 - loss: 1.0167 - val_accuracy: 0.7395 - val_loss: 1.3348\n",
            "Epoch 4/10\n",
            "\u001b[1m92/92\u001b[0m \u001b[32m━━━━━━━━━━━━━━━━━━━━\u001b[0m\u001b[37m\u001b[0m \u001b[1m264s\u001b[0m 3s/step - accuracy: 0.7737 - loss: 0.9017 - val_accuracy: 0.7552 - val_loss: 1.3980\n",
            "Epoch 5/10\n",
            "\u001b[1m92/92\u001b[0m \u001b[32m━━━━━━━━━━━━━━━━━━━━\u001b[0m\u001b[37m\u001b[0m \u001b[1m254s\u001b[0m 3s/step - accuracy: 0.7895 - loss: 0.8082 - val_accuracy: 0.7932 - val_loss: 1.3286\n",
            "Epoch 6/10\n",
            "\u001b[1m92/92\u001b[0m \u001b[32m━━━━━━━━━━━━━━━━━━━━\u001b[0m\u001b[37m\u001b[0m \u001b[1m255s\u001b[0m 3s/step - accuracy: 0.8515 - loss: 0.5956 - val_accuracy: 0.7814 - val_loss: 1.2475\n",
            "Epoch 7/10\n",
            "\u001b[1m92/92\u001b[0m \u001b[32m━━━━━━━━━━━━━━━━━━━━\u001b[0m\u001b[37m\u001b[0m \u001b[1m253s\u001b[0m 3s/step - accuracy: 0.8613 - loss: 0.5260 - val_accuracy: 0.7814 - val_loss: 1.3076\n",
            "Epoch 8/10\n",
            "\u001b[1m92/92\u001b[0m \u001b[32m━━━━━━━━━━━━━━━━━━━━\u001b[0m\u001b[37m\u001b[0m \u001b[1m240s\u001b[0m 3s/step - accuracy: 0.8742 - loss: 0.4645 - val_accuracy: 0.7866 - val_loss: 1.3217\n",
            "Epoch 9/10\n",
            "\u001b[1m92/92\u001b[0m \u001b[32m━━━━━━━━━━━━━━━━━━━━\u001b[0m\u001b[37m\u001b[0m \u001b[1m285s\u001b[0m 3s/step - accuracy: 0.8717 - loss: 0.5290 - val_accuracy: 0.7762 - val_loss: 1.3477\n",
            "Epoch 10/10\n",
            "\u001b[1m92/92\u001b[0m \u001b[32m━━━━━━━━━━━━━━━━━━━━\u001b[0m\u001b[37m\u001b[0m \u001b[1m237s\u001b[0m 3s/step - accuracy: 0.8708 - loss: 0.4858 - val_accuracy: 0.7945 - val_loss: 1.3355\n"
          ]
        }
      ],
      "source": [
        "# Train the model\n",
        "history = model.fit(\n",
        "    train_generator,\n",
        "    validation_data=val_generator,\n",
        "    epochs=10,\n",
        "    verbose=1\n",
        ")\n"
      ]
    },
    {
      "cell_type": "code",
      "execution_count": null,
      "metadata": {
        "colab": {
          "base_uri": "https://localhost:8080/"
        },
        "id": "zuAgqO2gzxsW",
        "outputId": "ac061721-cb51-44d8-80b3-a4f5d3f7ed8d"
      },
      "outputs": [
        {
          "output_type": "stream",
          "name": "stderr",
          "text": [
            "WARNING:absl:You are saving your model as an HDF5 file via `model.save()` or `keras.saving.save_model(model)`. This file format is considered legacy. We recommend using instead the native Keras format, e.g. `model.save('my_model.keras')` or `keras.saving.save_model(model, 'my_model.keras')`. \n"
          ]
        }
      ],
      "source": [
        "model.save('animal_classifier_model.h5')\n"
      ]
    },
    {
      "cell_type": "code",
      "execution_count": null,
      "metadata": {
        "colab": {
          "base_uri": "https://localhost:8080/"
        },
        "id": "9sfBaSOjTsJz",
        "outputId": "ebd6376b-bfe6-431e-cf48-e28fa068900e"
      },
      "outputs": [
        {
          "output_type": "stream",
          "name": "stdout",
          "text": [
            "Epoch 1/5\n",
            "\u001b[1m92/92\u001b[0m \u001b[32m━━━━━━━━━━━━━━━━━━━━\u001b[0m\u001b[37m\u001b[0m \u001b[1m855s\u001b[0m 9s/step - accuracy: 0.7987 - loss: 0.8160 - val_accuracy: 0.8128 - val_loss: 1.4448\n",
            "Epoch 2/5\n",
            "\u001b[1m92/92\u001b[0m \u001b[32m━━━━━━━━━━━━━━━━━━━━\u001b[0m\u001b[37m\u001b[0m \u001b[1m853s\u001b[0m 9s/step - accuracy: 0.8833 - loss: 0.4018 - val_accuracy: 0.8259 - val_loss: 1.5568\n",
            "Epoch 3/5\n",
            "\u001b[1m92/92\u001b[0m \u001b[32m━━━━━━━━━━━━━━━━━━━━\u001b[0m\u001b[37m\u001b[0m \u001b[1m854s\u001b[0m 9s/step - accuracy: 0.9162 - loss: 0.2864 - val_accuracy: 0.8194 - val_loss: 1.6329\n",
            "Epoch 4/5\n",
            "\u001b[1m92/92\u001b[0m \u001b[32m━━━━━━━━━━━━━━━━━━━━\u001b[0m\u001b[37m\u001b[0m \u001b[1m823s\u001b[0m 9s/step - accuracy: 0.9291 - loss: 0.2157 - val_accuracy: 0.8050 - val_loss: 1.8282\n",
            "Epoch 5/5\n",
            "\u001b[1m92/92\u001b[0m \u001b[32m━━━━━━━━━━━━━━━━━━━━\u001b[0m\u001b[37m\u001b[0m \u001b[1m812s\u001b[0m 9s/step - accuracy: 0.9350 - loss: 0.2202 - val_accuracy: 0.8168 - val_loss: 1.7362\n"
          ]
        },
        {
          "output_type": "stream",
          "name": "stderr",
          "text": [
            "WARNING:absl:You are saving your model as an HDF5 file via `model.save()` or `keras.saving.save_model(model)`. This file format is considered legacy. We recommend using instead the native Keras format, e.g. `model.save('my_model.keras')` or `keras.saving.save_model(model, 'my_model.keras')`. \n"
          ]
        }
      ],
      "source": [
        "base_model.trainable = True\n",
        "\n",
        "model.compile(optimizer=Adam(learning_rate=0.0001), loss='categorical_crossentropy', metrics=['accuracy'])\n",
        "\n",
        "#fine-tuning\n",
        "history_fine = model.fit(\n",
        "    train_generator,\n",
        "    validation_data=val_generator,\n",
        "    epochs=5,\n",
        "    verbose=1\n",
        ")\n",
        "\n",
        "model.save('fine_tuned_animal_classifier_model.h5')\n"
      ]
    },
    {
      "cell_type": "code",
      "execution_count": null,
      "metadata": {
        "colab": {
          "base_uri": "https://localhost:8080/",
          "height": 88
        },
        "id": "_eG2RKDE9fkg",
        "outputId": "cf1cbeb8-05eb-41cc-b23d-42420987b4f1"
      },
      "outputs": [
        {
          "output_type": "stream",
          "name": "stderr",
          "text": [
            "WARNING:absl:Compiled the loaded model, but the compiled metrics have yet to be built. `model.compile_metrics` will be empty until you train or evaluate the model.\n"
          ]
        },
        {
          "output_type": "stream",
          "name": "stdout",
          "text": [
            "\u001b[1m1/1\u001b[0m \u001b[32m━━━━━━━━━━━━━━━━━━━━\u001b[0m\u001b[37m\u001b[0m \u001b[1m2s\u001b[0m 2s/step\n",
            "Predicted Class: bear\n"
          ]
        },
        {
          "output_type": "execute_result",
          "data": {
            "text/plain": [
              "'bear'"
            ],
            "application/vnd.google.colaboratory.intrinsic+json": {
              "type": "string"
            }
          },
          "metadata": {},
          "execution_count": 11
        }
      ],
      "source": [
        "model = load_model('fine_tuned_animal_classifier_model.h5')\n",
        "\n",
        "def predict_image(image_path):\n",
        "    from tensorflow.keras.preprocessing.image import load_img, img_to_array\n",
        "\n",
        "    img = load_img(image_path, target_size=(224, 224))\n",
        "    img_array = img_to_array(img) / 255.0\n",
        "    img_array = np.expand_dims(img_array, axis=0)\n",
        "\n",
        "    predictions = model.predict(img_array)\n",
        "    predicted_class = np.argmax(predictions, axis=1)\n",
        "\n",
        "    class_labels = list(train_generator.class_indices.keys())\n",
        "    predicted_label = class_labels[predicted_class[0]]\n",
        "\n",
        "    print(f\"Predicted Class: {predicted_label}\")\n",
        "    return predicted_label\n",
        "\n",
        "test_image_path = '/content/output_folder/train/bear/8cf44a21ba.jpg'\n",
        "predict_image(test_image_path)\n"
      ]
    },
    {
      "cell_type": "code",
      "execution_count": null,
      "metadata": {
        "colab": {
          "base_uri": "https://localhost:8080/",
          "height": 927
        },
        "id": "WqA23jPs9lQR",
        "outputId": "34df9fff-b6a7-4ed8-d288-0da5fede1b29"
      },
      "outputs": [
        {
          "output_type": "display_data",
          "data": {
            "text/plain": [
              "<Figure size 640x480 with 1 Axes>"
            ],
            "image/png": "[encoded data removed]"
          },
          "metadata": {}
        },
        {
          "output_type": "display_data",
          "data": {
            "text/plain": [
              "<Figure size 640x480 with 1 Axes>"
            ],
            "image/png": "[encoded data removed]"
          },
          "metadata": {}
        }
      ],
      "source": [
        "import matplotlib.pyplot as plt\n",
        "\n",
        "# Plot accuracy\n",
        "plt.plot(history.history['accuracy'], label='Train Accuracy')\n",
        "plt.plot(history.history['val_accuracy'], label='Validation Accuracy')\n",
        "plt.title('Model Accuracy')\n",
        "plt.xlabel('Epochs')\n",
        "plt.ylabel('Accuracy')\n",
        "plt.legend()\n",
        "plt.show()\n",
        "\n",
        "# Plot loss\n",
        "plt.plot(history.history['loss'], label='Train Loss')\n",
        "plt.plot(history.history['val_loss'], label='Validation Loss')\n",
        "plt.title('Model Loss')\n",
        "plt.xlabel('Epochs')\n",
        "plt.ylabel('Loss')\n",
        "plt.legend()\n",
        "plt.show()\n"
      ]
    },
    {
      "cell_type": "code",
      "source": [
        "import numpy as np\n",
        "from tensorflow.keras.preprocessing.image import img_to_array\n",
        "from io import BytesIO\n",
        "from PIL import Image\n",
        "from IPython.display import display, Image as IPImage\n",
        "from ipywidgets import FileUpload, Dropdown, VBox, Output, Button\n",
        "from tensorflow.keras.models import load_model\n",
        "\n",
        "model = load_model('fine_tuned_animal_classifier_model.h5')\n",
        "\n",
        "class_labels = ['antelope', 'badger', 'bat', 'bear', 'bee', 'beetle', 'bison', 'boar', 'butterfly',\n",
        "                'cat', 'caterpillar', 'cheetah', 'chimpanzee', 'cockroach', 'cow', 'coyote', 'crab',\n",
        "                'crow', 'deer', 'dog', 'dolphin', 'donkey', 'dragonfly', 'duck', 'eagle', 'elephant',\n",
        "                'flamingo', 'fox', 'fly', 'goose', 'grasshopper', 'hare', 'hedgehog', 'goat', 'goldfish',\n",
        "                'gorilla', 'hamster', 'hornbill', 'hyena', 'jaguar', 'jellyfish', 'ladybug', 'mosquito',\n",
        "                'moth', 'hippopotamus', 'horse', 'hummingbird', 'kangaroo', 'koala', 'leopard', 'lion',\n",
        "                'lizard', 'lobster', 'okapi', 'orangutan', 'otter', 'ox', 'oyster', 'pelecaniformes',\n",
        "                'pig', 'mouse', 'octopus', 'owl', 'panda', 'parrot', 'penguin', 'pigeon', 'porcupine',\n",
        "                'possum', 'raccoon', 'rat', 'reindeer', 'rhinoceros', 'sandpiper', 'seahorse', 'seal',\n",
        "                'shark', 'sheep', 'snake', 'sparrow', 'squid', 'squirrel', 'starfish', 'swan', 'tiger',\n",
        "                'turkey', 'turtle', 'whale', 'wolf', 'wombat', 'woodpecker', 'zebra']\n",
        "\n",
        "\n",
        "upload_widget = FileUpload(accept='image/*', multiple=False)\n",
        "label_dropdown = Dropdown(options=class_labels, description='True Label:', value=None)\n",
        "output = Output()\n",
        "submit_button = Button(description=\"Submit\", button_style=\"primary\")\n",
        "\n",
        "display(VBox([upload_widget, label_dropdown, submit_button, output]))\n",
        "\n",
        "# Function to predict the uploaded image and compare with true label\n",
        "def predict_uploaded_image(image_data, true_label):\n",
        "    with output:\n",
        "        output.clear_output()\n",
        "\n",
        "        img = Image.open(BytesIO(image_data))\n",
        "        img = img.resize((224, 224))\n",
        "        display(IPImage(data=image_data))\n",
        "\n",
        "        img_array = img_to_array(img) / 255.0\n",
        "        img_array = np.expand_dims(img_array, axis=0)\n",
        "\n",
        "        predictions = model.predict(img_array)\n",
        "        predicted_class = np.argmax(predictions, axis=1)[0]\n",
        "        predicted_label = class_labels[predicted_class]\n",
        "\n",
        "        is_correct = predicted_label == true_label\n",
        "\n",
        "        print(f\"Predicted Class: {predicted_label}\")\n",
        "        print(f\"True Label: {true_label}\")\n",
        "        print(f\"Prediction Correct: {'Yes' if is_correct else 'No'}\")\n",
        "        print(f\"Confidence Score: {predictions[0][predicted_class] * 100:.2f}%\")\n",
        "\n",
        "\n",
        "def on_submit_click(change):\n",
        "    if upload_widget.value:\n",
        "        uploaded_file = next(iter(upload_widget.value.values()))\n",
        "        image_data = uploaded_file['content']\n",
        "        true_label = label_dropdown.value\n",
        "\n",
        "        if true_label:\n",
        "            predict_uploaded_image(image_data, true_label)\n",
        "        else:\n",
        "            with output:\n",
        "                output.clear_output()\n",
        "                print(\"Please select a true label.\")\n",
        "    else:\n",
        "        with output:\n",
        "            output.clear_output()\n",
        "            print(\"Please upload an image.\")\n",
        "\n",
        "submit_button.on_click(on_submit_click)\n"
      ],
      "metadata": {
        "colab": {
          "base_uri": "https://localhost:8080/",
          "height": 912,
          "referenced_widgets": [
            "91d7cbf301444e849a903786035a1887",
            "0edcb5e427e54159b86aa844cd24b1d3",
            "0b577be8ce3c49faad47ec008d556a45",
            "e746eef3ca6e481f99c2fa9f5904a5ae",
            "8b39f2e5622b40cf81ca61a89bcb0ba4",
            "5a20a9427ca1497ab5e4809af93be794",
            "82bf31451dc9407e825b73608a9460ae",
            "09279342aa564c048c64ea71e84a378d",
            "f3a2e609ca674fd08a3949aee1d2705d",
            "7bf6aa0dc421428eb6588a363253add4",
            "b518b54704e544c086859063f65108bd",
            "97690f5dd6664b88a295657ad062514e",
            "b1be1254772148c6b9afc4f66b735784"
          ]
        },
        "id": "uYO8aXPEW26c",
        "outputId": "95abd301-b257-44cb-ea68-9405634d740d"
      },
      "execution_count": null,
      "outputs": [
        {
          "output_type": "stream",
          "name": "stderr",
          "text": [
            "WARNING:absl:Compiled the loaded model, but the compiled metrics have yet to be built. `model.compile_metrics` will be empty until you train or evaluate the model.\n"
          ]
        },
        {
          "output_type": "display_data",
          "data": {
            "text/plain": [
              "VBox(children=(FileUpload(value={}, accept='image/*', description='Upload'), Dropdown(description='True Label:…"
            ],
            "application/vnd.jupyter.widget-view+json": {
              "version_major": 2,
              "version_minor": 0,
              "model_id": "91d7cbf301444e849a903786035a1887"
            }
          },
          "metadata": {}
        }
      ]
    },
    {
      "cell_type": "code",
      "source": [],
      "metadata": {
        "id": "fNlCokwhZxCi"
      },
      "execution_count": null,
      "outputs": []
    }
  ],
  "metadata": {
    "colab": {
      "provenance": []
    },
    "kernelspec": {
      "display_name": "Python 3",
      "name": "python3"
    },
    "language_info": {
      "name": "python"
    },
    "widgets": {
      "application/vnd.jupyter.widget-state+json": {
        "91d7cbf301444e849a903786035a1887": {
          "model_module": "@jupyter-widgets/controls",
          "model_name": "VBoxModel",
          "model_module_version": "1.5.0",
          "state": {
            "_dom_classes": [],
            "_model_module": "@jupyter-widgets/controls",
            "_model_module_version": "1.5.0",
            "_model_name": "VBoxModel",
            "_view_count": null,
            "_view_module": "@jupyter-widgets/controls",
            "_view_module_version": "1.5.0",
            "_view_name": "VBoxView",
            "box_style": "",
            "children": [
              "IPY_MODEL_0edcb5e427e54159b86aa844cd24b1d3",
              "IPY_MODEL_0b577be8ce3c49faad47ec008d556a45",
              "IPY_MODEL_e746eef3ca6e481f99c2fa9f5904a5ae",
              "IPY_MODEL_8b39f2e5622b40cf81ca61a89bcb0ba4"
            ],
            "layout": "IPY_MODEL_5a20a9427ca1497ab5e4809af93be794"
          }
        },
        "0edcb5e427e54159b86aa844cd24b1d3": {
          "model_module": "@jupyter-widgets/controls",
          "model_name": "FileUploadModel",
          "model_module_version": "1.5.0",
          "state": {
            "_counter": 2,
            "_dom_classes": [],
            "_model_module": "@jupyter-widgets/controls",
            "_model_module_version": "1.5.0",
            "_model_name": "FileUploadModel",
            "_view_count": null,
            "_view_module": "@jupyter-widgets/controls",
            "_view_module_version": "1.5.0",
            "_view_name": "FileUploadView",
            "accept": "image/*",
            "button_style": "",
            "data": [
              null
            ],
            "description": "Upload",
            "description_tooltip": null,
            "disabled": false,
            "error": "",
            "icon": "upload",
            "layout": "IPY_MODEL_82bf31451dc9407e825b73608a9460ae",
            "metadata": [
              {
                "name": "0dbe9a2485.jpg",
                "type": "image/jpeg",
                "size": 65509,
                "lastModified": 1658037138000
              }
            ],
            "multiple": false,
            "style": "IPY_MODEL_09279342aa564c048c64ea71e84a378d"
          }
        },
        "0b577be8ce3c49faad47ec008d556a45": {
          "model_module": "@jupyter-widgets/controls",
          "model_name": "DropdownModel",
          "model_module_version": "1.5.0",
          "state": {
            "_dom_classes": [],
            "_model_module": "@jupyter-widgets/controls",
            "_model_module_version": "1.5.0",
            "_model_name": "DropdownModel",
            "_options_labels": [
              "antelope",
              "badger",
              "bat",
              "bear",
              "bee",
              "beetle",
              "bison",
              "boar",
              "butterfly",
              "cat",
              "caterpillar",
              "cheetah",
              "chimpanzee",
              "cockroach",
              "cow",
              "coyote",
              "crab",
              "crow",
              "deer",
              "dog",
              "dolphin",
              "donkey",
              "dragonfly",
              "duck",
              "eagle",
              "elephant",
              "flamingo",
              "fox",
              "fly",
              "goose",
              "grasshopper",
              "hare",
              "hedgehog",
              "goat",
              "goldfish",
              "gorilla",
              "hamster",
              "hornbill",
              "hyena",
              "jaguar",
              "jellyfish",
              "ladybug",
              "mosquito",
              "moth",
              "hippopotamus",
              "horse",
              "hummingbird",
              "kangaroo",
              "koala",
              "leopard",
              "lion",
              "lizard",
              "lobster",
              "okapi",
              "orangutan",
              "otter",
              "ox",
              "oyster",
              "pelecaniformes",
              "pig",
              "mouse",
              "octopus",
              "owl",
              "panda",
              "parrot",
              "penguin",
              "pigeon",
              "porcupine",
              "possum",
              "raccoon",
              "rat",
              "reindeer",
              "rhinoceros",
              "sandpiper",
              "seahorse",
              "seal",
              "shark",
              "sheep",
              "snake",
              "sparrow",
              "squid",
              "squirrel",
              "starfish",
              "swan",
              "tiger",
              "turkey",
              "turtle",
              "whale",
              "wolf",
              "wombat",
              "woodpecker",
              "zebra"
            ],
            "_view_count": null,
            "_view_module": "@jupyter-widgets/controls",
            "_view_module_version": "1.5.0",
            "_view_name": "DropdownView",
            "description": "True Label:",
            "description_tooltip": null,
            "disabled": false,
            "index": 83,
            "layout": "IPY_MODEL_f3a2e609ca674fd08a3949aee1d2705d",
            "style": "IPY_MODEL_7bf6aa0dc421428eb6588a363253add4"
          }
        },
        "e746eef3ca6e481f99c2fa9f5904a5ae": {
          "model_module": "@jupyter-widgets/controls",
          "model_name": "ButtonModel",
          "model_module_version": "1.5.0",
          "state": {
            "_dom_classes": [],
            "_model_module": "@jupyter-widgets/controls",
            "_model_module_version": "1.5.0",
            "_model_name": "ButtonModel",
            "_view_count": null,
            "_view_module": "@jupyter-widgets/controls",
            "_view_module_version": "1.5.0",
            "_view_name": "ButtonView",
            "button_style": "primary",
            "description": "Submit",
            "disabled": false,
            "icon": "",
            "layout": "IPY_MODEL_b518b54704e544c086859063f65108bd",
            "style": "IPY_MODEL_97690f5dd6664b88a295657ad062514e",
            "tooltip": ""
          }
        },
        "8b39f2e5622b40cf81ca61a89bcb0ba4": {
          "model_module": "@jupyter-widgets/output",
          "model_name": "OutputModel",
          "model_module_version": "1.0.0",
          "state": {
            "_dom_classes": [],
            "_model_module": "@jupyter-widgets/output",
            "_model_module_version": "1.0.0",
            "_model_name": "OutputModel",
            "_view_count": null,
            "_view_module": "@jupyter-widgets/output",
            "_view_module_version": "1.0.0",
            "_view_name": "OutputView",
            "layout": "IPY_MODEL_b1be1254772148c6b9afc4f66b735784",
            "msg_id": "",
            "outputs": [
              {
                "output_type": "display_data",
                "data": {
                  "image/jpeg": "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\n",
                  "text/plain": "<IPython.core.display.Image object>"
                },
                "metadata": {}
              },
              {
                "output_type": "stream",
                "name": "stdout",
                "text": [
                  "\r\u001b[1m1/1\u001b[0m \u001b[32m━━━━━━━━━━━━━━━━━━━━\u001b[0m\u001b[37m\u001b[0m \u001b[1m0s\u001b[0m 75ms/step"
                ]
              },
              {
                "output_type": "stream",
                "name": "stdout",
                "text": [
                  "\b\b\b\b\b\b\b\b\b\b\b\b\b\b\b\b\b\b\b\b\b\b\b\b\b\b\b\b\b\b\b\b\b\b\b\b\b\r\u001b[1m1/1\u001b[0m \u001b[32m━━━━━━━━━━━━━━━━━━━━\u001b[0m\u001b[37m\u001b[0m \u001b[1m0s\u001b[0m 77ms/step\n"
                ]
              },
              {
                "output_type": "stream",
                "name": "stdout",
                "text": [
                  "Predicted Class: swan\n",
                  "True Label: swan\n",
                  "Prediction Correct: Yes\n",
                  "Confidence Score: 100.00%\n"
                ]
              }
            ]
          }
        },
        "5a20a9427ca1497ab5e4809af93be794": {
          "model_module": "@jupyter-widgets/base",
          "model_name": "LayoutModel",
          "model_module_version": "1.2.0",
          "state": {
            "_model_module": "@jupyter-widgets/base",
            "_model_module_version": "1.2.0",
            "_model_name": "LayoutModel",
            "_view_count": null,
            "_view_module": "@jupyter-widgets/base",
            "_view_module_version": "1.2.0",
            "_view_name": "LayoutView",
            "align_content": null,
            "align_items": null,
            "align_self": null,
            "border": null,
            "bottom": null,
            "display": null,
            "flex": null,
            "flex_flow": null,
            "grid_area": null,
            "grid_auto_columns": null,
            "grid_auto_flow": null,
            "grid_auto_rows": null,
            "grid_column": null,
            "grid_gap": null,
            "grid_row": null,
            "grid_template_areas": null,
            "grid_template_columns": null,
            "grid_template_rows": null,
            "height": null,
            "justify_content": null,
            "justify_items": null,
            "left": null,
            "margin": null,
            "max_height": null,
            "max_width": null,
            "min_height": null,
            "min_width": null,
            "object_fit": null,
            "object_position": null,
            "order": null,
            "overflow": null,
            "overflow_x": null,
            "overflow_y": null,
            "padding": null,
            "right": null,
            "top": null,
            "visibility": null,
            "width": null
          }
        },
        "82bf31451dc9407e825b73608a9460ae": {
          "model_module": "@jupyter-widgets/base",
          "model_name": "LayoutModel",
          "model_module_version": "1.2.0",
          "state": {
            "_model_module": "@jupyter-widgets/base",
            "_model_module_version": "1.2.0",
            "_model_name": "LayoutModel",
            "_view_count": null,
            "_view_module": "@jupyter-widgets/base",
            "_view_module_version": "1.2.0",
            "_view_name": "LayoutView",
            "align_content": null,
            "align_items": null,
            "align_self": null,
            "border": null,
            "bottom": null,
            "display": null,
            "flex": null,
            "flex_flow": null,
            "grid_area": null,
            "grid_auto_columns": null,
            "grid_auto_flow": null,
            "grid_auto_rows": null,
            "grid_column": null,
            "grid_gap": null,
            "grid_row": null,
            "grid_template_areas": null,
            "grid_template_columns": null,
            "grid_template_rows": null,
            "height": null,
            "justify_content": null,
            "justify_items": null,
            "left": null,
            "margin": null,
            "max_height": null,
            "max_width": null,
            "min_height": null,
            "min_width": null,
            "object_fit": null,
            "object_position": null,
            "order": null,
            "overflow": null,
            "overflow_x": null,
            "overflow_y": null,
            "padding": null,
            "right": null,
            "top": null,
            "visibility": null,
            "width": null
          }
        },
        "09279342aa564c048c64ea71e84a378d": {
          "model_module": "@jupyter-widgets/controls",
          "model_name": "ButtonStyleModel",
          "model_module_version": "1.5.0",
          "state": {
            "_model_module": "@jupyter-widgets/controls",
            "_model_module_version": "1.5.0",
            "_model_name": "ButtonStyleModel",
            "_view_count": null,
            "_view_module": "@jupyter-widgets/base",
            "_view_module_version": "1.2.0",
            "_view_name": "StyleView",
            "button_color": null,
            "font_weight": ""
          }
        },
        "f3a2e609ca674fd08a3949aee1d2705d": {
          "model_module": "@jupyter-widgets/base",
          "model_name": "LayoutModel",
          "model_module_version": "1.2.0",
          "state": {
            "_model_module": "@jupyter-widgets/base",
            "_model_module_version": "1.2.0",
            "_model_name": "LayoutModel",
            "_view_count": null,
            "_view_module": "@jupyter-widgets/base",
            "_view_module_version": "1.2.0",
            "_view_name": "LayoutView",
            "align_content": null,
            "align_items": null,
            "align_self": null,
            "border": null,
            "bottom": null,
            "display": null,
            "flex": null,
            "flex_flow": null,
            "grid_area": null,
            "grid_auto_columns": null,
            "grid_auto_flow": null,
            "grid_auto_rows": null,
            "grid_column": null,
            "grid_gap": null,
            "grid_row": null,
            "grid_template_areas": null,
            "grid_template_columns": null,
            "grid_template_rows": null,
            "height": null,
            "justify_content": null,
            "justify_items": null,
            "left": null,
            "margin": null,
            "max_height": null,
            "max_width": null,
            "min_height": null,
            "min_width": null,
            "object_fit": null,
            "object_position": null,
            "order": null,
            "overflow": null,
            "overflow_x": null,
            "overflow_y": null,
            "padding": null,
            "right": null,
            "top": null,
            "visibility": null,
            "width": null
          }
        },
        "7bf6aa0dc421428eb6588a363253add4": {
          "model_module": "@jupyter-widgets/controls",
          "model_name": "DescriptionStyleModel",
          "model_module_version": "1.5.0",
          "state": {
            "_model_module": "@jupyter-widgets/controls",
            "_model_module_version": "1.5.0",
            "_model_name": "DescriptionStyleModel",
            "_view_count": null,
            "_view_module": "@jupyter-widgets/base",
            "_view_module_version": "1.2.0",
            "_view_name": "StyleView",
            "description_width": ""
          }
        },
        "b518b54704e544c086859063f65108bd": {
          "model_module": "@jupyter-widgets/base",
          "model_name": "LayoutModel",
          "model_module_version": "1.2.0",
          "state": {
            "_model_module": "@jupyter-widgets/base",
            "_model_module_version": "1.2.0",
            "_model_name": "LayoutModel",
            "_view_count": null,
            "_view_module": "@jupyter-widgets/base",
            "_view_module_version": "1.2.0",
            "_view_name": "LayoutView",
            "align_content": null,
            "align_items": null,
            "align_self": null,
            "border": null,
            "bottom": null,
            "display": null,
            "flex": null,
            "flex_flow": null,
            "grid_area": null,
            "grid_auto_columns": null,
            "grid_auto_flow": null,
            "grid_auto_rows": null,
            "grid_column": null,
            "grid_gap": null,
            "grid_row": null,
            "grid_template_areas": null,
            "grid_template_columns": null,
            "grid_template_rows": null,
            "height": null,
            "justify_content": null,
            "justify_items": null,
            "left": null,
            "margin": null,
            "max_height": null,
            "max_width": null,
            "min_height": null,
            "min_width": null,
            "object_fit": null,
            "object_position": null,
            "order": null,
            "overflow": null,
            "overflow_x": null,
            "overflow_y": null,
            "padding": null,
            "right": null,
            "top": null,
            "visibility": null,
            "width": null
          }
        },
        "97690f5dd6664b88a295657ad062514e": {
          "model_module": "@jupyter-widgets/controls",
          "model_name": "ButtonStyleModel",
          "model_module_version": "1.5.0",
          "state": {
            "_model_module": "@jupyter-widgets/controls",
            "_model_module_version": "1.5.0",
            "_model_name": "ButtonStyleModel",
            "_view_count": null,
            "_view_module": "@jupyter-widgets/base",
            "_view_module_version": "1.2.0",
            "_view_name": "StyleView",
            "button_color": null,
            "font_weight": ""
          }
        },
        "b1be1254772148c6b9afc4f66b735784": {
          "model_module": "@jupyter-widgets/base",
          "model_name": "LayoutModel",
          "model_module_version": "1.2.0",
          "state": {
            "_model_module": "@jupyter-widgets/base",
            "_model_module_version": "1.2.0",
            "_model_name": "LayoutModel",
            "_view_count": null,
            "_view_module": "@jupyter-widgets/base",
            "_view_module_version": "1.2.0",
            "_view_name": "LayoutView",
            "align_content": null,
            "align_items": null,
            "align_self": null,
            "border": null,
            "bottom": null,
            "display": null,
            "flex": null,
            "flex_flow": null,
            "grid_area": null,
            "grid_auto_columns": null,
            "grid_auto_flow": null,
            "grid_auto_rows": null,
            "grid_column": null,
            "grid_gap": null,
            "grid_row": null,
            "grid_template_areas": null,
            "grid_template_columns": null,
            "grid_template_rows": null,
            "height": null,
            "justify_content": null,
            "justify_items": null,
            "left": null,
            "margin": null,
            "max_height": null,
            "max_width": null,
            "min_height": null,
            "min_width": null,
            "object_fit": null,
            "object_position": null,
            "order": null,
            "overflow": null,
            "overflow_x": null,
            "overflow_y": null,
            "padding": null,
            "right": null,
            "top": null,
            "visibility": null,
            "width": null
          }
        }
      }
    }
  },
  "nbformat": 4,
  "nbformat_minor": 0
}